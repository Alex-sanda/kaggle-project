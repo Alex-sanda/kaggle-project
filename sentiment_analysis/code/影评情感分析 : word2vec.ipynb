{
 "cells": [
  {
   "cell_type": "code",
   "execution_count": 1,
   "metadata": {
    "collapsed": true
   },
   "outputs": [],
   "source": [
    "import pandas as pd\n",
    "from bs4 import BeautifulSoup\n",
    "import re\n",
    "import nltk\n",
    "from nltk.corpus import stopwords\n",
    "import logging\n",
    "from gensim.models import word2vec "
   ]
  },
  {
   "cell_type": "code",
   "execution_count": 2,
   "metadata": {},
   "outputs": [
    {
     "name": "stdout",
     "output_type": "stream",
     "text": [
      "train:25000 \n",
      "test:25000\n",
      "unlabeled:50000\n",
      "total_size:100000\n"
     ]
    }
   ],
   "source": [
    "#load train/test data with pandas\n",
    "train = pd.read_csv(\"./dataset/labeledTrainData.tsv\",\n",
    "                    header=0,\n",
    "                    delimiter='\\t',\n",
    "                    quoting=3)\n",
    "\n",
    "test = pd.read_csv(\"./dataset/testData.tsv\",\n",
    "                   header=0,delimiter='\\t',\n",
    "                   quoting=3)\n",
    "\n",
    "unlabeled_train = pd.read_csv(\"./dataset/unlabeledTrainData.tsv\",\n",
    "                              header=0,\n",
    "                              delimiter='\\t',\n",
    "                              quoting=3)\n",
    "print(\"train:{} \\ntest:{}\\nunlabeled:{}\\ntotal_size:{}\".format(train[\"review\"].size,\n",
    "                                                                    test[\"review\"].size,\n",
    "                                                                    unlabeled_train[\"review\"].size,\n",
    "                                                                    train[\"review\"].size+test[\"review\"].size+unlabeled_train[\"review\"].size))"
   ]
  },
  {
   "cell_type": "code",
   "execution_count": 3,
   "metadata": {
    "collapsed": true
   },
   "outputs": [],
   "source": [
    "#clean review with option : whether remove stop word\n",
    "def review_to_wordlist(review,remove_stopwords=False):\n",
    "    #Function to convert a document to a sequence of words\n",
    "    #1.remove Html\n",
    "    raw_review = BeautifulSoup(review).get_text()\n",
    "    #2.remove NON-charaters\n",
    "    cleaned_words = re.sub(\"[^a-zA-Z]\",\" \",raw_review)\n",
    "    #3.lower case and split review into word list\n",
    "    words = cleaned_words.lower().split()\n",
    "    #4.remove stopwords if said\n",
    "    if remove_stopwords == True:\n",
    "        stop_words = set(stopwords.words(\"english\"))\n",
    "        words = [word for word in wors if word not in stop_words]\n",
    "    return words"
   ]
  },
  {
   "cell_type": "code",
   "execution_count": 4,
   "metadata": {
    "collapsed": true
   },
   "outputs": [],
   "source": [
    "#word2vec expects single sentence,each one as a list of words\n",
    "#in other words ,we have to split review into sentence\n",
    "#load the punkt tokenizer\n",
    "tokenizer = nltk.data.load('tokenizers/punkt/english.pickle')\n",
    "\n",
    "#split review into parsed sentences\n",
    "def review_to_sentence(review,tokenizer,remove_stopwords=False):\n",
    "    #1.use the NLTK tokenizer to split review into sentences\n",
    "    raw_sentences = tokenizer.tokenize(review.strip())\n",
    "    \n",
    "    sentences = []\n",
    "    #loop over each sentence\n",
    "    for raw_sentence in raw_sentences:\n",
    "        if len(raw_sentence)>0:\n",
    "            words = review_to_wordlist(raw_sentence,remove_stopwords)\n",
    "            sentences.append(words)\n",
    "    return sentences"
   ]
  },
  {
   "cell_type": "code",
   "execution_count": 5,
   "metadata": {
    "scrolled": false
   },
   "outputs": [
    {
     "name": "stderr",
     "output_type": "stream",
     "text": [
      "/home/alex/anaconda3/lib/python3.6/site-packages/bs4/__init__.py:181: UserWarning: No parser was explicitly specified, so I'm using the best available HTML parser for this system (\"lxml\"). This usually isn't a problem, but if you run this code on another system, or in a different virtual environment, it may use a different parser and behave differently.\n",
      "\n",
      "The code that caused this warning is on line 193 of the file /home/alex/anaconda3/lib/python3.6/runpy.py. To get rid of this warning, change code that looks like this:\n",
      "\n",
      " BeautifulSoup(YOUR_MARKUP})\n",
      "\n",
      "to this:\n",
      "\n",
      " BeautifulSoup(YOUR_MARKUP, \"lxml\")\n",
      "\n",
      "  markup_type=markup_type))\n"
     ]
    }
   ],
   "source": [
    "sentences = review_to_sentence(train[\"review\"][0],tokenizer)"
   ]
  },
  {
   "cell_type": "code",
   "execution_count": 6,
   "metadata": {
    "scrolled": true
   },
   "outputs": [
    {
     "name": "stderr",
     "output_type": "stream",
     "text": [
      "/home/alex/anaconda3/lib/python3.6/site-packages/bs4/__init__.py:181: UserWarning: No parser was explicitly specified, so I'm using the best available HTML parser for this system (\"lxml\"). This usually isn't a problem, but if you run this code on another system, or in a different virtual environment, it may use a different parser and behave differently.\n",
      "\n",
      "The code that caused this warning is on line 193 of the file /home/alex/anaconda3/lib/python3.6/runpy.py. To get rid of this warning, change code that looks like this:\n",
      "\n",
      " BeautifulSoup(YOUR_MARKUP})\n",
      "\n",
      "to this:\n",
      "\n",
      " BeautifulSoup(YOUR_MARKUP, \"lxml\")\n",
      "\n",
      "  markup_type=markup_type))\n"
     ]
    },
    {
     "name": "stdout",
     "output_type": "stream",
     "text": [
      "parsing sentence from training set\n"
     ]
    },
    {
     "name": "stderr",
     "output_type": "stream",
     "text": [
      "/home/alex/anaconda3/lib/python3.6/site-packages/bs4/__init__.py:219: UserWarning: \"b'.'\" looks like a filename, not markup. You should probably open this file and pass the filehandle into Beautiful Soup.\n",
      "  ' Beautiful Soup.' % markup)\n",
      "/home/alex/anaconda3/lib/python3.6/site-packages/bs4/__init__.py:282: UserWarning: \"http://www.happierabroad.com\"\" looks like a URL. Beautiful Soup is not an HTTP client. You should probably use an HTTP client like requests to get the document behind the URL, and feed that document to Beautiful Soup.\n",
      "  ' that document to Beautiful Soup.' % decoded_markup\n"
     ]
    },
    {
     "name": "stdout",
     "output_type": "stream",
     "text": [
      "parsing sentence from unlabeled training set\n"
     ]
    },
    {
     "name": "stderr",
     "output_type": "stream",
     "text": [
      "/home/alex/anaconda3/lib/python3.6/site-packages/bs4/__init__.py:282: UserWarning: \"http://www.archive.org/details/LovefromaStranger\"\" looks like a URL. Beautiful Soup is not an HTTP client. You should probably use an HTTP client like requests to get the document behind the URL, and feed that document to Beautiful Soup.\n",
      "  ' that document to Beautiful Soup.' % decoded_markup\n",
      "/home/alex/anaconda3/lib/python3.6/site-packages/bs4/__init__.py:282: UserWarning: \"http://www.loosechangeguide.com/LooseChangeGuide.html\"\" looks like a URL. Beautiful Soup is not an HTTP client. You should probably use an HTTP client like requests to get the document behind the URL, and feed that document to Beautiful Soup.\n",
      "  ' that document to Beautiful Soup.' % decoded_markup\n",
      "/home/alex/anaconda3/lib/python3.6/site-packages/bs4/__init__.py:282: UserWarning: \"http://www.msnbc.msn.com/id/4972055/site/newsweek/\"\" looks like a URL. Beautiful Soup is not an HTTP client. You should probably use an HTTP client like requests to get the document behind the URL, and feed that document to Beautiful Soup.\n",
      "  ' that document to Beautiful Soup.' % decoded_markup\n",
      "/home/alex/anaconda3/lib/python3.6/site-packages/bs4/__init__.py:219: UserWarning: \"b'..'\" looks like a filename, not markup. You should probably open this file and pass the filehandle into Beautiful Soup.\n",
      "  ' Beautiful Soup.' % markup)\n",
      "/home/alex/anaconda3/lib/python3.6/site-packages/bs4/__init__.py:282: UserWarning: \"http://www.youtube.com/watch?v=a0KSqelmgN8\"\" looks like a URL. Beautiful Soup is not an HTTP client. You should probably use an HTTP client like requests to get the document behind the URL, and feed that document to Beautiful Soup.\n",
      "  ' that document to Beautiful Soup.' % decoded_markup\n",
      "/home/alex/anaconda3/lib/python3.6/site-packages/bs4/__init__.py:282: UserWarning: \"http://jake-weird.blogspot.com/2007/08/beneath.html\"\" looks like a URL. Beautiful Soup is not an HTTP client. You should probably use an HTTP client like requests to get the document behind the URL, and feed that document to Beautiful Soup.\n",
      "  ' that document to Beautiful Soup.' % decoded_markup\n"
     ]
    }
   ],
   "source": [
    "#prepare the data for input to word2vec\n",
    "sentences = []\n",
    "#from training set\n",
    "print(\"parsing sentence from training set\")\n",
    "for review in train[\"review\"]:\n",
    "    sentences += review_to_sentence(review,tokenizer)\n",
    "    \n",
    "#from unlabeled training set\n",
    "print(\"parsing sentence from unlabeled training set\")\n",
    "for review in unlabeled_train[\"review\"]:\n",
    "    sentences += review_to_sentence(review,tokenizer)"
   ]
  },
  {
   "cell_type": "code",
   "execution_count": 7,
   "metadata": {},
   "outputs": [
    {
     "data": {
      "text/plain": [
       "795538"
      ]
     },
     "execution_count": 7,
     "metadata": {},
     "output_type": "execute_result"
    }
   ],
   "source": [
    "len(sentences)"
   ]
  },
  {
   "cell_type": "code",
   "execution_count": 8,
   "metadata": {},
   "outputs": [
    {
     "name": "stderr",
     "output_type": "stream",
     "text": [
      "INFO :collecting all words and their counts\n",
      "INFO :PROGRESS: at sentence #0, processed 0 words, keeping 0 word types\n",
      "INFO :PROGRESS: at sentence #10000, processed 225803 words, keeping 17776 word types\n",
      "INFO :PROGRESS: at sentence #20000, processed 451892 words, keeping 24948 word types\n",
      "INFO :PROGRESS: at sentence #30000, processed 671315 words, keeping 30034 word types\n",
      "INFO :PROGRESS: at sentence #40000, processed 897815 words, keeping 34348 word types\n",
      "INFO :PROGRESS: at sentence #50000, processed 1116963 words, keeping 37761 word types\n",
      "INFO :PROGRESS: at sentence #60000, processed 1338404 words, keeping 40723 word types\n"
     ]
    },
    {
     "name": "stdout",
     "output_type": "stream",
     "text": [
      "training model\n"
     ]
    },
    {
     "name": "stderr",
     "output_type": "stream",
     "text": [
      "INFO :PROGRESS: at sentence #70000, processed 1561580 words, keeping 43333 word types\n",
      "INFO :PROGRESS: at sentence #80000, processed 1780887 words, keeping 45714 word types\n",
      "INFO :PROGRESS: at sentence #90000, processed 2004996 words, keeping 48135 word types\n",
      "INFO :PROGRESS: at sentence #100000, processed 2226966 words, keeping 50207 word types\n",
      "INFO :PROGRESS: at sentence #110000, processed 2446580 words, keeping 52081 word types\n",
      "INFO :PROGRESS: at sentence #120000, processed 2668775 words, keeping 54119 word types\n",
      "INFO :PROGRESS: at sentence #130000, processed 2894303 words, keeping 55847 word types\n",
      "INFO :PROGRESS: at sentence #140000, processed 3107005 words, keeping 57346 word types\n",
      "INFO :PROGRESS: at sentence #150000, processed 3332627 words, keeping 59055 word types\n",
      "INFO :PROGRESS: at sentence #160000, processed 3555315 words, keeping 60617 word types\n",
      "INFO :PROGRESS: at sentence #170000, processed 3778655 words, keeping 62077 word types\n",
      "INFO :PROGRESS: at sentence #180000, processed 3999236 words, keeping 63496 word types\n",
      "INFO :PROGRESS: at sentence #190000, processed 4224449 words, keeping 64794 word types\n",
      "INFO :PROGRESS: at sentence #200000, processed 4448603 words, keeping 66087 word types\n",
      "INFO :PROGRESS: at sentence #210000, processed 4669967 words, keeping 67390 word types\n",
      "INFO :PROGRESS: at sentence #220000, processed 4894968 words, keeping 68697 word types\n",
      "INFO :PROGRESS: at sentence #230000, processed 5117545 words, keeping 69958 word types\n",
      "INFO :PROGRESS: at sentence #240000, processed 5345050 words, keeping 71167 word types\n",
      "INFO :PROGRESS: at sentence #250000, processed 5559165 words, keeping 72351 word types\n",
      "INFO :PROGRESS: at sentence #260000, processed 5779146 words, keeping 73478 word types\n",
      "INFO :PROGRESS: at sentence #270000, processed 6000435 words, keeping 74767 word types\n",
      "INFO :PROGRESS: at sentence #280000, processed 6226314 words, keeping 76369 word types\n",
      "INFO :PROGRESS: at sentence #290000, processed 6449474 words, keeping 77839 word types\n",
      "INFO :PROGRESS: at sentence #300000, processed 6674077 words, keeping 79171 word types\n",
      "INFO :PROGRESS: at sentence #310000, processed 6899391 words, keeping 80480 word types\n",
      "INFO :PROGRESS: at sentence #320000, processed 7124278 words, keeping 81808 word types\n",
      "INFO :PROGRESS: at sentence #330000, processed 7346021 words, keeping 83030 word types\n",
      "INFO :PROGRESS: at sentence #340000, processed 7575533 words, keeping 84280 word types\n",
      "INFO :PROGRESS: at sentence #350000, processed 7798803 words, keeping 85425 word types\n",
      "INFO :PROGRESS: at sentence #360000, processed 8019427 words, keeping 86596 word types\n",
      "INFO :PROGRESS: at sentence #370000, processed 8246619 words, keeping 87708 word types\n",
      "INFO :PROGRESS: at sentence #380000, processed 8471766 words, keeping 88878 word types\n",
      "INFO :PROGRESS: at sentence #390000, processed 8701497 words, keeping 89907 word types\n",
      "INFO :PROGRESS: at sentence #400000, processed 8924446 words, keeping 90916 word types\n",
      "INFO :PROGRESS: at sentence #410000, processed 9145796 words, keeping 91880 word types\n",
      "INFO :PROGRESS: at sentence #420000, processed 9366876 words, keeping 92912 word types\n",
      "INFO :PROGRESS: at sentence #430000, processed 9594413 words, keeping 93932 word types\n",
      "INFO :PROGRESS: at sentence #440000, processed 9821166 words, keeping 94906 word types\n",
      "INFO :PROGRESS: at sentence #450000, processed 10044928 words, keeping 96036 word types\n",
      "INFO :PROGRESS: at sentence #460000, processed 10277688 words, keeping 97088 word types\n",
      "INFO :PROGRESS: at sentence #470000, processed 10505613 words, keeping 97933 word types\n",
      "INFO :PROGRESS: at sentence #480000, processed 10725997 words, keeping 98862 word types\n",
      "INFO :PROGRESS: at sentence #490000, processed 10952741 words, keeping 99871 word types\n",
      "INFO :PROGRESS: at sentence #500000, processed 11174397 words, keeping 100765 word types\n",
      "INFO :PROGRESS: at sentence #510000, processed 11399672 words, keeping 101699 word types\n",
      "INFO :PROGRESS: at sentence #520000, processed 11623020 words, keeping 102598 word types\n",
      "INFO :PROGRESS: at sentence #530000, processed 11847418 words, keeping 103400 word types\n",
      "INFO :PROGRESS: at sentence #540000, processed 12072033 words, keeping 104265 word types\n",
      "INFO :PROGRESS: at sentence #550000, processed 12297571 words, keeping 105133 word types\n",
      "INFO :PROGRESS: at sentence #560000, processed 12518861 words, keeping 105997 word types\n",
      "INFO :PROGRESS: at sentence #570000, processed 12747916 words, keeping 106787 word types\n",
      "INFO :PROGRESS: at sentence #580000, processed 12969412 words, keeping 107665 word types\n",
      "INFO :PROGRESS: at sentence #590000, processed 13194937 words, keeping 108501 word types\n",
      "INFO :PROGRESS: at sentence #600000, processed 13417135 words, keeping 109218 word types\n",
      "INFO :PROGRESS: at sentence #610000, processed 13638158 words, keeping 110092 word types\n",
      "INFO :PROGRESS: at sentence #620000, processed 13864483 words, keeping 110837 word types\n",
      "INFO :PROGRESS: at sentence #630000, processed 14088769 words, keeping 111610 word types\n",
      "INFO :PROGRESS: at sentence #640000, processed 14309552 words, keeping 112416 word types\n",
      "INFO :PROGRESS: at sentence #650000, processed 14535308 words, keeping 113196 word types\n",
      "INFO :PROGRESS: at sentence #660000, processed 14758098 words, keeping 113945 word types\n",
      "INFO :PROGRESS: at sentence #670000, processed 14981482 words, keeping 114643 word types\n",
      "INFO :PROGRESS: at sentence #680000, processed 15206314 words, keeping 115354 word types\n",
      "INFO :PROGRESS: at sentence #690000, processed 15428507 words, keeping 116131 word types\n",
      "INFO :PROGRESS: at sentence #700000, processed 15657213 words, keeping 116943 word types\n",
      "INFO :PROGRESS: at sentence #710000, processed 15880202 words, keeping 117596 word types\n",
      "INFO :PROGRESS: at sentence #720000, processed 16105489 words, keeping 118221 word types\n",
      "INFO :PROGRESS: at sentence #730000, processed 16331870 words, keeping 118954 word types\n",
      "INFO :PROGRESS: at sentence #740000, processed 16552903 words, keeping 119668 word types\n",
      "INFO :PROGRESS: at sentence #750000, processed 16771230 words, keeping 120295 word types\n",
      "INFO :PROGRESS: at sentence #760000, processed 16990622 words, keeping 120930 word types\n",
      "INFO :PROGRESS: at sentence #770000, processed 17217759 words, keeping 121703 word types\n",
      "INFO :PROGRESS: at sentence #780000, processed 17447905 words, keeping 122402 word types\n",
      "INFO :PROGRESS: at sentence #790000, processed 17674981 words, keeping 123066 word types\n",
      "INFO :collected 123504 word types from a corpus of 17798082 raw words and 795538 sentences\n",
      "INFO :Loading a fresh vocabulary\n",
      "INFO :min_count=40 retains 16490 unique words (13% of original 123504, drops 107014)\n",
      "INFO :min_count=40 leaves 17238940 word corpus (96% of original 17798082, drops 559142)\n",
      "INFO :deleting the raw counts dictionary of 123504 items\n",
      "INFO :sample=0.001 downsamples 48 most-common words\n",
      "INFO :downsampling leaves estimated 12749658 word corpus (74.0% of prior 17238940)\n",
      "INFO :estimated required memory for 16490 words and 300 dimensions: 47821000 bytes\n",
      "INFO :resetting layer weights\n",
      "INFO :training model with 4 workers on 16490 vocabulary and 300 features, using sg=0 hs=0 sample=0.001 negative=5 window=10\n",
      "INFO :EPOCH 1 - PROGRESS: at 8.22% examples, 1042421 words/s, in_qsize 8, out_qsize 0\n",
      "INFO :EPOCH 1 - PROGRESS: at 16.50% examples, 1040521 words/s, in_qsize 7, out_qsize 0\n",
      "INFO :EPOCH 1 - PROGRESS: at 25.00% examples, 1053276 words/s, in_qsize 7, out_qsize 0\n",
      "INFO :EPOCH 1 - PROGRESS: at 33.61% examples, 1061096 words/s, in_qsize 7, out_qsize 0\n",
      "INFO :EPOCH 1 - PROGRESS: at 42.08% examples, 1064934 words/s, in_qsize 7, out_qsize 0\n",
      "INFO :EPOCH 1 - PROGRESS: at 50.57% examples, 1067650 words/s, in_qsize 7, out_qsize 0\n",
      "INFO :EPOCH 1 - PROGRESS: at 58.95% examples, 1069103 words/s, in_qsize 7, out_qsize 0\n",
      "INFO :EPOCH 1 - PROGRESS: at 67.29% examples, 1068434 words/s, in_qsize 7, out_qsize 0\n",
      "INFO :EPOCH 1 - PROGRESS: at 75.76% examples, 1069486 words/s, in_qsize 7, out_qsize 0\n",
      "INFO :EPOCH 1 - PROGRESS: at 84.23% examples, 1070327 words/s, in_qsize 7, out_qsize 0\n",
      "INFO :EPOCH 1 - PROGRESS: at 92.74% examples, 1070964 words/s, in_qsize 7, out_qsize 0\n",
      "INFO :worker thread finished; awaiting finish of 3 more threads\n",
      "INFO :worker thread finished; awaiting finish of 2 more threads\n"
     ]
    },
    {
     "name": "stderr",
     "output_type": "stream",
     "text": [
      "INFO :worker thread finished; awaiting finish of 1 more threads\n",
      "INFO :worker thread finished; awaiting finish of 0 more threads\n",
      "INFO :EPOCH - 1 : training on 17798082 raw words (12749834 effective words) took 11.9s, 1071624 effective words/s\n",
      "INFO :EPOCH 2 - PROGRESS: at 8.39% examples, 1060802 words/s, in_qsize 7, out_qsize 0\n",
      "INFO :EPOCH 2 - PROGRESS: at 17.00% examples, 1067577 words/s, in_qsize 7, out_qsize 0\n",
      "INFO :EPOCH 2 - PROGRESS: at 25.57% examples, 1072399 words/s, in_qsize 7, out_qsize 0\n",
      "INFO :EPOCH 2 - PROGRESS: at 34.16% examples, 1075682 words/s, in_qsize 7, out_qsize 0\n",
      "INFO :EPOCH 2 - PROGRESS: at 42.63% examples, 1077234 words/s, in_qsize 7, out_qsize 0\n",
      "INFO :EPOCH 2 - PROGRESS: at 51.13% examples, 1078955 words/s, in_qsize 7, out_qsize 0\n",
      "INFO :EPOCH 2 - PROGRESS: at 59.45% examples, 1077372 words/s, in_qsize 8, out_qsize 0\n",
      "INFO :EPOCH 2 - PROGRESS: at 67.92% examples, 1077712 words/s, in_qsize 7, out_qsize 0\n",
      "INFO :EPOCH 2 - PROGRESS: at 76.43% examples, 1078173 words/s, in_qsize 7, out_qsize 0\n",
      "INFO :EPOCH 2 - PROGRESS: at 84.94% examples, 1078432 words/s, in_qsize 7, out_qsize 0\n",
      "INFO :EPOCH 2 - PROGRESS: at 93.46% examples, 1078904 words/s, in_qsize 7, out_qsize 0\n",
      "INFO :worker thread finished; awaiting finish of 3 more threads\n",
      "INFO :worker thread finished; awaiting finish of 2 more threads\n",
      "INFO :worker thread finished; awaiting finish of 1 more threads\n",
      "INFO :worker thread finished; awaiting finish of 0 more threads\n",
      "INFO :EPOCH - 2 : training on 17798082 raw words (12749868 effective words) took 11.8s, 1080052 effective words/s\n",
      "INFO :EPOCH 3 - PROGRESS: at 8.50% examples, 1078509 words/s, in_qsize 7, out_qsize 0\n",
      "INFO :EPOCH 3 - PROGRESS: at 17.12% examples, 1081080 words/s, in_qsize 7, out_qsize 0\n",
      "INFO :EPOCH 3 - PROGRESS: at 25.57% examples, 1076404 words/s, in_qsize 7, out_qsize 0\n",
      "INFO :EPOCH 3 - PROGRESS: at 34.10% examples, 1076265 words/s, in_qsize 7, out_qsize 0\n",
      "INFO :EPOCH 3 - PROGRESS: at 42.41% examples, 1070660 words/s, in_qsize 7, out_qsize 0\n",
      "INFO :EPOCH 3 - PROGRESS: at 50.90% examples, 1072671 words/s, in_qsize 7, out_qsize 0\n",
      "INFO :EPOCH 3 - PROGRESS: at 59.28% examples, 1072810 words/s, in_qsize 7, out_qsize 0\n",
      "INFO :EPOCH 3 - PROGRESS: at 67.69% examples, 1072578 words/s, in_qsize 7, out_qsize 0\n",
      "INFO :EPOCH 3 - PROGRESS: at 76.22% examples, 1073490 words/s, in_qsize 7, out_qsize 0\n",
      "INFO :EPOCH 3 - PROGRESS: at 84.72% examples, 1074529 words/s, in_qsize 7, out_qsize 0\n",
      "INFO :EPOCH 3 - PROGRESS: at 93.23% examples, 1075352 words/s, in_qsize 7, out_qsize 0\n",
      "INFO :worker thread finished; awaiting finish of 3 more threads\n",
      "INFO :worker thread finished; awaiting finish of 2 more threads\n",
      "INFO :worker thread finished; awaiting finish of 1 more threads\n",
      "INFO :worker thread finished; awaiting finish of 0 more threads\n",
      "INFO :EPOCH - 3 : training on 17798082 raw words (12748693 effective words) took 11.9s, 1074445 effective words/s\n",
      "INFO :EPOCH 4 - PROGRESS: at 8.44% examples, 1068515 words/s, in_qsize 7, out_qsize 0\n",
      "INFO :EPOCH 4 - PROGRESS: at 17.07% examples, 1077026 words/s, in_qsize 7, out_qsize 0\n",
      "INFO :EPOCH 4 - PROGRESS: at 25.63% examples, 1079463 words/s, in_qsize 7, out_qsize 0\n",
      "INFO :EPOCH 4 - PROGRESS: at 34.27% examples, 1079504 words/s, in_qsize 7, out_qsize 0\n",
      "INFO :EPOCH 4 - PROGRESS: at 42.74% examples, 1079601 words/s, in_qsize 7, out_qsize 0\n",
      "INFO :EPOCH 4 - PROGRESS: at 51.25% examples, 1079599 words/s, in_qsize 7, out_qsize 0\n",
      "INFO :EPOCH 4 - PROGRESS: at 59.67% examples, 1079146 words/s, in_qsize 7, out_qsize 0\n",
      "INFO :EPOCH 4 - PROGRESS: at 68.15% examples, 1078732 words/s, in_qsize 7, out_qsize 0\n",
      "INFO :EPOCH 4 - PROGRESS: at 76.60% examples, 1078864 words/s, in_qsize 7, out_qsize 0\n",
      "INFO :EPOCH 4 - PROGRESS: at 85.11% examples, 1078351 words/s, in_qsize 7, out_qsize 0\n",
      "INFO :EPOCH 4 - PROGRESS: at 93.63% examples, 1077815 words/s, in_qsize 7, out_qsize 0\n",
      "INFO :worker thread finished; awaiting finish of 3 more threads\n",
      "INFO :worker thread finished; awaiting finish of 2 more threads\n",
      "INFO :worker thread finished; awaiting finish of 1 more threads\n",
      "INFO :worker thread finished; awaiting finish of 0 more threads\n",
      "INFO :EPOCH - 4 : training on 17798082 raw words (12748770 effective words) took 11.8s, 1077032 effective words/s\n",
      "INFO :EPOCH 5 - PROGRESS: at 8.33% examples, 1057528 words/s, in_qsize 6, out_qsize 1\n",
      "INFO :EPOCH 5 - PROGRESS: at 16.89% examples, 1067905 words/s, in_qsize 7, out_qsize 0\n",
      "INFO :EPOCH 5 - PROGRESS: at 25.28% examples, 1065221 words/s, in_qsize 7, out_qsize 0\n",
      "INFO :EPOCH 5 - PROGRESS: at 33.83% examples, 1067416 words/s, in_qsize 7, out_qsize 0\n",
      "INFO :EPOCH 5 - PROGRESS: at 42.35% examples, 1069882 words/s, in_qsize 7, out_qsize 0\n",
      "INFO :EPOCH 5 - PROGRESS: at 50.85% examples, 1071836 words/s, in_qsize 7, out_qsize 0\n",
      "INFO :EPOCH 5 - PROGRESS: at 59.17% examples, 1071099 words/s, in_qsize 7, out_qsize 0\n",
      "INFO :EPOCH 5 - PROGRESS: at 67.51% examples, 1069837 words/s, in_qsize 7, out_qsize 0\n",
      "INFO :EPOCH 5 - PROGRESS: at 75.99% examples, 1070275 words/s, in_qsize 7, out_qsize 0\n",
      "INFO :EPOCH 5 - PROGRESS: at 84.51% examples, 1071114 words/s, in_qsize 7, out_qsize 0\n",
      "INFO :EPOCH 5 - PROGRESS: at 92.95% examples, 1071459 words/s, in_qsize 7, out_qsize 0\n",
      "INFO :worker thread finished; awaiting finish of 3 more threads\n",
      "INFO :worker thread finished; awaiting finish of 2 more threads\n",
      "INFO :worker thread finished; awaiting finish of 1 more threads\n",
      "INFO :worker thread finished; awaiting finish of 0 more threads\n",
      "INFO :EPOCH - 5 : training on 17798082 raw words (12750302 effective words) took 11.9s, 1072451 effective words/s\n",
      "INFO :training on a 88990410 raw words (63747467 effective words) took 59.3s, 1074176 effective words/s\n",
      "INFO :precomputing L2-norms of word weight vectors\n",
      "INFO :saving Word2Vec object under 300features_40minwords_10contex, separately None\n",
      "INFO :not storing attribute vectors_norm\n",
      "INFO :not storing attribute cum_table\n",
      "INFO :saved 300features_40minwords_10contex\n"
     ]
    }
   ],
   "source": [
    "logging.basicConfig(format='%(levelname)s :%(message)s',\n",
    "                   level=logging.INFO)\n",
    "#set values for various parameters\n",
    "num_features = 300\n",
    "min_word_count = 40\n",
    "num_workers = 4       #num of threads to run in parallel\n",
    "context = 10\n",
    "downsampling = 1e-3   #downsample setting for frequent words\n",
    "\n",
    "\n",
    "print(\"training model\")\n",
    "model = word2vec.Word2Vec(sentences,\n",
    "                          workers=num_workers,\n",
    "                          size = num_features,\n",
    "                          min_count = min_word_count,\n",
    "                          window = context,\n",
    "                          sample = downsampling\n",
    "                         )\n",
    "model.init_sims(replace=True)\n",
    "model_name = \"300features_40minwords_10contex\"\n",
    "model.save(model_name)"
   ]
  },
  {
   "cell_type": "code",
   "execution_count": 9,
   "metadata": {},
   "outputs": [
    {
     "name": "stderr",
     "output_type": "stream",
     "text": [
      "/home/alex/anaconda3/lib/python3.6/site-packages/ipykernel_launcher.py:1: DeprecationWarning: Call to deprecated `doesnt_match` (Method will be removed in 4.0.0, use self.wv.doesnt_match() instead).\n",
      "  \"\"\"Entry point for launching an IPython kernel.\n"
     ]
    },
    {
     "data": {
      "text/plain": [
       "'kitchen'"
      ]
     },
     "execution_count": 9,
     "metadata": {},
     "output_type": "execute_result"
    }
   ],
   "source": [
    "model.doesnt_match(\"man woman child kitchen\".split())"
   ]
  },
  {
   "cell_type": "code",
   "execution_count": 10,
   "metadata": {},
   "outputs": [
    {
     "name": "stderr",
     "output_type": "stream",
     "text": [
      "/home/alex/anaconda3/lib/python3.6/site-packages/ipykernel_launcher.py:1: DeprecationWarning: Call to deprecated `doesnt_match` (Method will be removed in 4.0.0, use self.wv.doesnt_match() instead).\n",
      "  \"\"\"Entry point for launching an IPython kernel.\n"
     ]
    },
    {
     "data": {
      "text/plain": [
       "'berlin'"
      ]
     },
     "execution_count": 10,
     "metadata": {},
     "output_type": "execute_result"
    }
   ],
   "source": [
    "model.doesnt_match(\"france england germany berlin\".split())"
   ]
  },
  {
   "cell_type": "code",
   "execution_count": 11,
   "metadata": {},
   "outputs": [
    {
     "name": "stderr",
     "output_type": "stream",
     "text": [
      "/home/alex/anaconda3/lib/python3.6/site-packages/ipykernel_launcher.py:1: DeprecationWarning: Call to deprecated `most_similar` (Method will be removed in 4.0.0, use self.wv.most_similar() instead).\n",
      "  \"\"\"Entry point for launching an IPython kernel.\n"
     ]
    },
    {
     "data": {
      "text/plain": [
       "[('woman', 0.6122967004776001),\n",
       " ('lady', 0.5903916358947754),\n",
       " ('lad', 0.582253634929657),\n",
       " ('monk', 0.5394635200500488),\n",
       " ('men', 0.5153583288192749),\n",
       " ('farmer', 0.5147213935852051),\n",
       " ('soldier', 0.5044882893562317),\n",
       " ('person', 0.4987906217575073),\n",
       " ('guy', 0.49783599376678467),\n",
       " ('millionaire', 0.49595922231674194)]"
      ]
     },
     "execution_count": 11,
     "metadata": {},
     "output_type": "execute_result"
    }
   ],
   "source": [
    "model.most_similar(\"man\")"
   ]
  },
  {
   "cell_type": "code",
   "execution_count": 12,
   "metadata": {},
   "outputs": [
    {
     "name": "stderr",
     "output_type": "stream",
     "text": [
      "/home/alex/anaconda3/lib/python3.6/site-packages/ipykernel_launcher.py:1: DeprecationWarning: Call to deprecated `most_similar` (Method will be removed in 4.0.0, use self.wv.most_similar() instead).\n",
      "  \"\"\"Entry point for launching an IPython kernel.\n"
     ]
    },
    {
     "data": {
      "text/plain": [
       "[('terrible', 0.7694653272628784),\n",
       " ('horrible', 0.726334810256958),\n",
       " ('atrocious', 0.7161608338356018),\n",
       " ('abysmal', 0.7082933187484741),\n",
       " ('dreadful', 0.7078591585159302),\n",
       " ('appalling', 0.6694698929786682),\n",
       " ('horrendous', 0.6606138944625854),\n",
       " ('horrid', 0.6556227207183838),\n",
       " ('lousy', 0.609402596950531),\n",
       " ('amateurish', 0.6081972122192383)]"
      ]
     },
     "execution_count": 12,
     "metadata": {},
     "output_type": "execute_result"
    }
   ],
   "source": [
    "model.most_similar(\"awful\")"
   ]
  },
  {
   "cell_type": "code",
   "execution_count": null,
   "metadata": {
    "collapsed": true
   },
   "outputs": [],
   "source": []
  },
  {
   "cell_type": "code",
   "execution_count": null,
   "metadata": {
    "collapsed": true
   },
   "outputs": [],
   "source": []
  }
 ],
 "metadata": {
  "kernelspec": {
   "display_name": "Python 3",
   "language": "python",
   "name": "python3"
  },
  "language_info": {
   "codemirror_mode": {
    "name": "ipython",
    "version": 3
   },
   "file_extension": ".py",
   "mimetype": "text/x-python",
   "name": "python",
   "nbconvert_exporter": "python",
   "pygments_lexer": "ipython3",
   "version": "3.6.2"
  }
 },
 "nbformat": 4,
 "nbformat_minor": 2
}
