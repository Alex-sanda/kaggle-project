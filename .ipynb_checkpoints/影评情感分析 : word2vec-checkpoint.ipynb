{
 "cells": [
  {
   "cell_type": "code",
   "execution_count": 1,
   "metadata": {
    "collapsed": true
   },
   "outputs": [],
   "source": [
    "import pandas as pd\n",
    "from bs4 import BeautifulSoup\n",
    "import re\n",
    "import nltk\n",
    "from nltk.corpus import stopwords\n",
    "import logging\n",
    "from gensim.models import word2vec "
   ]
  },
  {
   "cell_type": "code",
   "execution_count": 22,
   "metadata": {},
   "outputs": [
    {
     "name": "stdout",
     "output_type": "stream",
     "text": [
      "train:25000 \n",
      "test:25000\n",
      "unlabeled:50000\n",
      "total_size:100000\n"
     ]
    }
   ],
   "source": [
    "#load train/test data with pandas\n",
    "train = pd.read_csv(\"./dataset/labeledTrainData.tsv\",\n",
    "                    header=0,\n",
    "                    delimiter='\\t',\n",
    "                    quoting=3)\n",
    "\n",
    "test = pd.read_csv(\"./dataset/testData.tsv\",\n",
    "                   header=0,delimiter='\\t',\n",
    "                   quoting=3)\n",
    "\n",
    "unlabeled_train = pd.read_csv(\"./dataset/unlabeledTrainData.tsv\",\n",
    "                              header=0,\n",
    "                              delimiter='\\t',\n",
    "                              quoting=3)\n",
    "print(\"train:{} \\ntest:{}\\nunlabeled:{}\\ntotal_size:{}\".format(train[\"review\"].size,\n",
    "                                                                    test[\"review\"].size,\n",
    "                                                                    unlabeled_train[\"review\"].size,\n",
    "                                                                    train[\"review\"].size+test[\"review\"].size+unlabeled_train[\"review\"].size))"
   ]
  },
  {
   "cell_type": "code",
   "execution_count": 29,
   "metadata": {
    "collapsed": true
   },
   "outputs": [],
   "source": [
    "#clean review with option : whether remove stop word\n",
    "def review_to_wordlist(review,remove_stopwords=False):\n",
    "    #Function to convert a document to a sequence of words\n",
    "    #1.remove Html\n",
    "    raw_review = BeautifulSoup(review).get_text()\n",
    "    #2.remove NON-charaters\n",
    "    cleaned_words = re.sub(\"[^a-zA-Z]\",\" \",raw_review)\n",
    "    #3.lower case and split review into word list\n",
    "    words = cleaned_words.lower().split()\n",
    "    #4.remove stopwords if said\n",
    "    if remove_stopwords == True:\n",
    "        stop_words = set(stopwords.words(\"english\"))\n",
    "        words = [word for word in wors if word not in stop_words]\n",
    "    return words"
   ]
  },
  {
   "cell_type": "code",
   "execution_count": 36,
   "metadata": {},
   "outputs": [],
   "source": [
    "#word2vec expects single sentence,each one as a list of words\n",
    "#in other words ,we have to split review into sentence\n",
    "#load the punkt tokenizer\n",
    "tokenizer = nltk.data.load('tokenizers/punkt/english.pickle')\n",
    "\n",
    "#split review into parsed sentences\n",
    "def review_to_sentence(review,tokenizer,remove_stopwords=False):\n",
    "    #1.use the NLTK tokenizer to split review into sentences\n",
    "    raw_sentences = tokenizer.tokenize(review.strip())\n",
    "    \n",
    "    sentences = []\n",
    "    #loop over each sentence\n",
    "    for raw_sentence in raw_sentences:\n",
    "        if len(raw_sentence)>0:\n",
    "            words = review_to_wordlist(raw_sentence,remove_stopwords)\n",
    "            sentences.append(words)\n",
    "    return sentences"
   ]
  },
  {
   "cell_type": "code",
   "execution_count": 38,
   "metadata": {
    "scrolled": false
   },
   "outputs": [
    {
     "name": "stderr",
     "output_type": "stream",
     "text": [
      "/home/alex/anaconda3/lib/python3.6/site-packages/bs4/__init__.py:181: UserWarning: No parser was explicitly specified, so I'm using the best available HTML parser for this system (\"lxml\"). This usually isn't a problem, but if you run this code on another system, or in a different virtual environment, it may use a different parser and behave differently.\n",
      "\n",
      "The code that caused this warning is on line 193 of the file /home/alex/anaconda3/lib/python3.6/runpy.py. To get rid of this warning, change code that looks like this:\n",
      "\n",
      " BeautifulSoup(YOUR_MARKUP})\n",
      "\n",
      "to this:\n",
      "\n",
      " BeautifulSoup(YOUR_MARKUP, \"lxml\")\n",
      "\n",
      "  markup_type=markup_type))\n"
     ]
    }
   ],
   "source": [
    "sentences = review_to_sentence(train[\"review\"][0],tokenizer)"
   ]
  },
  {
   "cell_type": "code",
   "execution_count": 44,
   "metadata": {
    "scrolled": true
   },
   "outputs": [
    {
     "name": "stdout",
     "output_type": "stream",
     "text": [
      "parsing sentence from training set\n"
     ]
    },
    {
     "name": "stderr",
     "output_type": "stream",
     "text": [
      "/home/alex/anaconda3/lib/python3.6/site-packages/bs4/__init__.py:181: UserWarning: No parser was explicitly specified, so I'm using the best available HTML parser for this system (\"lxml\"). This usually isn't a problem, but if you run this code on another system, or in a different virtual environment, it may use a different parser and behave differently.\n",
      "\n",
      "The code that caused this warning is on line 193 of the file /home/alex/anaconda3/lib/python3.6/runpy.py. To get rid of this warning, change code that looks like this:\n",
      "\n",
      " BeautifulSoup(YOUR_MARKUP})\n",
      "\n",
      "to this:\n",
      "\n",
      " BeautifulSoup(YOUR_MARKUP, \"lxml\")\n",
      "\n",
      "  markup_type=markup_type))\n",
      "/home/alex/anaconda3/lib/python3.6/site-packages/bs4/__init__.py:219: UserWarning: \"b'.'\" looks like a filename, not markup. You should probably open this file and pass the filehandle into Beautiful Soup.\n",
      "  ' Beautiful Soup.' % markup)\n",
      "/home/alex/anaconda3/lib/python3.6/site-packages/bs4/__init__.py:282: UserWarning: \"http://www.happierabroad.com\"\" looks like a URL. Beautiful Soup is not an HTTP client. You should probably use an HTTP client like requests to get the document behind the URL, and feed that document to Beautiful Soup.\n",
      "  ' that document to Beautiful Soup.' % decoded_markup\n"
     ]
    },
    {
     "name": "stdout",
     "output_type": "stream",
     "text": [
      "parsing sentence from unlabeled training set\n"
     ]
    },
    {
     "name": "stderr",
     "output_type": "stream",
     "text": [
      "/home/alex/anaconda3/lib/python3.6/site-packages/bs4/__init__.py:282: UserWarning: \"http://www.archive.org/details/LovefromaStranger\"\" looks like a URL. Beautiful Soup is not an HTTP client. You should probably use an HTTP client like requests to get the document behind the URL, and feed that document to Beautiful Soup.\n",
      "  ' that document to Beautiful Soup.' % decoded_markup\n",
      "/home/alex/anaconda3/lib/python3.6/site-packages/bs4/__init__.py:282: UserWarning: \"http://www.loosechangeguide.com/LooseChangeGuide.html\"\" looks like a URL. Beautiful Soup is not an HTTP client. You should probably use an HTTP client like requests to get the document behind the URL, and feed that document to Beautiful Soup.\n",
      "  ' that document to Beautiful Soup.' % decoded_markup\n",
      "/home/alex/anaconda3/lib/python3.6/site-packages/bs4/__init__.py:282: UserWarning: \"http://www.msnbc.msn.com/id/4972055/site/newsweek/\"\" looks like a URL. Beautiful Soup is not an HTTP client. You should probably use an HTTP client like requests to get the document behind the URL, and feed that document to Beautiful Soup.\n",
      "  ' that document to Beautiful Soup.' % decoded_markup\n",
      "/home/alex/anaconda3/lib/python3.6/site-packages/bs4/__init__.py:219: UserWarning: \"b'..'\" looks like a filename, not markup. You should probably open this file and pass the filehandle into Beautiful Soup.\n",
      "  ' Beautiful Soup.' % markup)\n",
      "/home/alex/anaconda3/lib/python3.6/site-packages/bs4/__init__.py:282: UserWarning: \"http://www.youtube.com/watch?v=a0KSqelmgN8\"\" looks like a URL. Beautiful Soup is not an HTTP client. You should probably use an HTTP client like requests to get the document behind the URL, and feed that document to Beautiful Soup.\n",
      "  ' that document to Beautiful Soup.' % decoded_markup\n",
      "/home/alex/anaconda3/lib/python3.6/site-packages/bs4/__init__.py:282: UserWarning: \"http://jake-weird.blogspot.com/2007/08/beneath.html\"\" looks like a URL. Beautiful Soup is not an HTTP client. You should probably use an HTTP client like requests to get the document behind the URL, and feed that document to Beautiful Soup.\n",
      "  ' that document to Beautiful Soup.' % decoded_markup\n"
     ]
    }
   ],
   "source": [
    "#prepare the data for input to word2vec\n",
    "sentences = []\n",
    "#from training set\n",
    "print(\"parsing sentence from training set\")\n",
    "for review in train[\"review\"]:\n",
    "    sentences += review_to_sentence(review,tokenizer)\n",
    "    \n",
    "#from unlabeled training set\n",
    "print(\"parsing sentence from unlabeled training set\")\n",
    "for review in unlabeled_train[\"review\"]:\n",
    "    sentences += review_to_sentence(review,tokenizer)"
   ]
  },
  {
   "cell_type": "code",
   "execution_count": 47,
   "metadata": {},
   "outputs": [
    {
     "data": {
      "text/plain": [
       "795538"
      ]
     },
     "execution_count": 47,
     "metadata": {},
     "output_type": "execute_result"
    }
   ],
   "source": [
    "len(sentences)"
   ]
  },
  {
   "cell_type": "code",
   "execution_count": 51,
   "metadata": {},
   "outputs": [
    {
     "name": "stdout",
     "output_type": "stream",
     "text": [
      "training model\n"
     ]
    }
   ],
   "source": [
    "logging.basicConfig(format='%(levelname)s :%(message)s',\n",
    "                   level=logging.INFO)\n",
    "#set values for various parameters\n",
    "num_features = 300\n",
    "min_word_count = 40\n",
    "num_workers = 4       #num of threads to run in parallel\n",
    "context = 10\n",
    "downsampling = 1e-3   #downsample setting for frequent words\n",
    "\n",
    "\n",
    "print(\"training model\")\n",
    "model = word2vec.Word2Vec(sentences,\n",
    "                          workers=num_workers,\n",
    "                          size = num_features,\n",
    "                          min_count = min_word_count,\n",
    "                          window = context,\n",
    "                          sample = downsampling\n",
    "                         )\n",
    "model.init_sims(replace=True)\n",
    "model_name = \"300features_40minwords_10contex\"\n",
    "model.save(model_name)"
   ]
  },
  {
   "cell_type": "code",
   "execution_count": 53,
   "metadata": {},
   "outputs": [
    {
     "name": "stderr",
     "output_type": "stream",
     "text": [
      "INFO :collecting all words and their counts\n",
      "INFO :PROGRESS: at sentence #0, processed 0 words, keeping 0 word types\n",
      "INFO :PROGRESS: at sentence #10000, processed 225803 words, keeping 17776 word types\n",
      "INFO :PROGRESS: at sentence #20000, processed 451892 words, keeping 24948 word types\n",
      "INFO :PROGRESS: at sentence #30000, processed 671315 words, keeping 30034 word types\n",
      "INFO :PROGRESS: at sentence #40000, processed 897815 words, keeping 34348 word types\n",
      "INFO :PROGRESS: at sentence #50000, processed 1116963 words, keeping 37761 word types\n",
      "INFO :PROGRESS: at sentence #60000, processed 1338404 words, keeping 40723 word types\n",
      "INFO :PROGRESS: at sentence #70000, processed 1561580 words, keeping 43333 word types\n",
      "INFO :PROGRESS: at sentence #80000, processed 1780887 words, keeping 45714 word types\n",
      "INFO :PROGRESS: at sentence #90000, processed 2004996 words, keeping 48135 word types\n",
      "INFO :PROGRESS: at sentence #100000, processed 2226966 words, keeping 50207 word types\n",
      "INFO :PROGRESS: at sentence #110000, processed 2446580 words, keeping 52081 word types\n",
      "INFO :PROGRESS: at sentence #120000, processed 2668775 words, keeping 54119 word types\n",
      "INFO :PROGRESS: at sentence #130000, processed 2894303 words, keeping 55847 word types\n",
      "INFO :PROGRESS: at sentence #140000, processed 3107005 words, keeping 57346 word types\n",
      "INFO :PROGRESS: at sentence #150000, processed 3332627 words, keeping 59055 word types\n",
      "INFO :PROGRESS: at sentence #160000, processed 3555315 words, keeping 60617 word types\n",
      "INFO :PROGRESS: at sentence #170000, processed 3778655 words, keeping 62077 word types\n",
      "INFO :PROGRESS: at sentence #180000, processed 3999236 words, keeping 63496 word types\n",
      "INFO :PROGRESS: at sentence #190000, processed 4224449 words, keeping 64794 word types\n",
      "INFO :PROGRESS: at sentence #200000, processed 4448603 words, keeping 66087 word types\n",
      "INFO :PROGRESS: at sentence #210000, processed 4669967 words, keeping 67390 word types\n",
      "INFO :PROGRESS: at sentence #220000, processed 4894968 words, keeping 68697 word types\n",
      "INFO :PROGRESS: at sentence #230000, processed 5117545 words, keeping 69958 word types\n",
      "INFO :PROGRESS: at sentence #240000, processed 5345050 words, keeping 71167 word types\n",
      "INFO :PROGRESS: at sentence #250000, processed 5559165 words, keeping 72351 word types\n",
      "INFO :PROGRESS: at sentence #260000, processed 5779146 words, keeping 73478 word types\n",
      "INFO :PROGRESS: at sentence #270000, processed 6000435 words, keeping 74767 word types\n",
      "INFO :PROGRESS: at sentence #280000, processed 6226314 words, keeping 76369 word types\n",
      "INFO :PROGRESS: at sentence #290000, processed 6449474 words, keeping 77839 word types\n",
      "INFO :PROGRESS: at sentence #300000, processed 6674077 words, keeping 79171 word types\n",
      "INFO :PROGRESS: at sentence #310000, processed 6899391 words, keeping 80480 word types\n",
      "INFO :PROGRESS: at sentence #320000, processed 7124278 words, keeping 81808 word types\n",
      "INFO :PROGRESS: at sentence #330000, processed 7346021 words, keeping 83030 word types\n",
      "INFO :PROGRESS: at sentence #340000, processed 7575533 words, keeping 84280 word types\n",
      "INFO :PROGRESS: at sentence #350000, processed 7798803 words, keeping 85425 word types\n",
      "INFO :PROGRESS: at sentence #360000, processed 8019427 words, keeping 86596 word types\n",
      "INFO :PROGRESS: at sentence #370000, processed 8246619 words, keeping 87708 word types\n",
      "INFO :PROGRESS: at sentence #380000, processed 8471766 words, keeping 88878 word types\n",
      "INFO :PROGRESS: at sentence #390000, processed 8701497 words, keeping 89907 word types\n",
      "INFO :PROGRESS: at sentence #400000, processed 8924446 words, keeping 90916 word types\n",
      "INFO :PROGRESS: at sentence #410000, processed 9145796 words, keeping 91880 word types\n",
      "INFO :PROGRESS: at sentence #420000, processed 9366876 words, keeping 92912 word types\n",
      "INFO :PROGRESS: at sentence #430000, processed 9594413 words, keeping 93932 word types\n",
      "INFO :PROGRESS: at sentence #440000, processed 9821166 words, keeping 94906 word types\n",
      "INFO :PROGRESS: at sentence #450000, processed 10044928 words, keeping 96036 word types\n",
      "INFO :PROGRESS: at sentence #460000, processed 10277688 words, keeping 97088 word types\n",
      "INFO :PROGRESS: at sentence #470000, processed 10505613 words, keeping 97933 word types\n",
      "INFO :PROGRESS: at sentence #480000, processed 10725997 words, keeping 98862 word types\n",
      "INFO :PROGRESS: at sentence #490000, processed 10952741 words, keeping 99871 word types\n",
      "INFO :PROGRESS: at sentence #500000, processed 11174397 words, keeping 100765 word types\n",
      "INFO :PROGRESS: at sentence #510000, processed 11399672 words, keeping 101699 word types\n",
      "INFO :PROGRESS: at sentence #520000, processed 11623020 words, keeping 102598 word types\n",
      "INFO :PROGRESS: at sentence #530000, processed 11847418 words, keeping 103400 word types\n",
      "INFO :PROGRESS: at sentence #540000, processed 12072033 words, keeping 104265 word types\n",
      "INFO :PROGRESS: at sentence #550000, processed 12297571 words, keeping 105133 word types\n",
      "INFO :PROGRESS: at sentence #560000, processed 12518861 words, keeping 105997 word types\n",
      "INFO :PROGRESS: at sentence #570000, processed 12747916 words, keeping 106787 word types\n",
      "INFO :PROGRESS: at sentence #580000, processed 12969412 words, keeping 107665 word types\n",
      "INFO :PROGRESS: at sentence #590000, processed 13194937 words, keeping 108501 word types\n",
      "INFO :PROGRESS: at sentence #600000, processed 13417135 words, keeping 109218 word types\n",
      "INFO :PROGRESS: at sentence #610000, processed 13638158 words, keeping 110092 word types\n",
      "INFO :PROGRESS: at sentence #620000, processed 13864483 words, keeping 110837 word types\n",
      "INFO :PROGRESS: at sentence #630000, processed 14088769 words, keeping 111610 word types\n",
      "INFO :PROGRESS: at sentence #640000, processed 14309552 words, keeping 112416 word types\n",
      "INFO :PROGRESS: at sentence #650000, processed 14535308 words, keeping 113196 word types\n",
      "INFO :PROGRESS: at sentence #660000, processed 14758098 words, keeping 113945 word types\n",
      "INFO :PROGRESS: at sentence #670000, processed 14981482 words, keeping 114643 word types\n",
      "INFO :PROGRESS: at sentence #680000, processed 15206314 words, keeping 115354 word types\n",
      "INFO :PROGRESS: at sentence #690000, processed 15428507 words, keeping 116131 word types\n",
      "INFO :PROGRESS: at sentence #700000, processed 15657213 words, keeping 116943 word types\n",
      "INFO :PROGRESS: at sentence #710000, processed 15880202 words, keeping 117596 word types\n",
      "INFO :PROGRESS: at sentence #720000, processed 16105489 words, keeping 118221 word types\n",
      "INFO :PROGRESS: at sentence #730000, processed 16331870 words, keeping 118954 word types\n",
      "INFO :PROGRESS: at sentence #740000, processed 16552903 words, keeping 119668 word types\n",
      "INFO :PROGRESS: at sentence #750000, processed 16771230 words, keeping 120295 word types\n",
      "INFO :PROGRESS: at sentence #760000, processed 16990622 words, keeping 120930 word types\n",
      "INFO :PROGRESS: at sentence #770000, processed 17217759 words, keeping 121703 word types\n",
      "INFO :PROGRESS: at sentence #780000, processed 17447905 words, keeping 122402 word types\n",
      "INFO :PROGRESS: at sentence #790000, processed 17674981 words, keeping 123066 word types\n",
      "INFO :collected 123504 word types from a corpus of 17798082 raw words and 795538 sentences\n",
      "INFO :Loading a fresh vocabulary\n",
      "INFO :min_count=40 retains 16490 unique words (13% of original 123504, drops 107014)\n",
      "INFO :min_count=40 leaves 17238940 word corpus (96% of original 17798082, drops 559142)\n",
      "INFO :deleting the raw counts dictionary of 123504 items\n",
      "INFO :sample=0.001 downsamples 48 most-common words\n",
      "INFO :downsampling leaves estimated 12749658 word corpus (74.0% of prior 17238940)\n",
      "INFO :estimated required memory for 16490 words and 300 dimensions: 47821000 bytes\n",
      "INFO :resetting layer weights\n",
      "INFO :training model with 4 workers on 16490 vocabulary and 300 features, using sg=0 hs=0 sample=0.001 negative=5 window=10\n",
      "INFO :EPOCH 1 - PROGRESS: at 6.85% examples, 871398 words/s, in_qsize 7, out_qsize 0\n",
      "INFO :EPOCH 1 - PROGRESS: at 14.83% examples, 939581 words/s, in_qsize 7, out_qsize 0\n",
      "INFO :EPOCH 1 - PROGRESS: at 23.04% examples, 971286 words/s, in_qsize 7, out_qsize 0\n",
      "INFO :EPOCH 1 - PROGRESS: at 31.20% examples, 986090 words/s, in_qsize 7, out_qsize 0\n",
      "INFO :EPOCH 1 - PROGRESS: at 39.13% examples, 989830 words/s, in_qsize 7, out_qsize 0\n"
     ]
    },
    {
     "name": "stderr",
     "output_type": "stream",
     "text": [
      "INFO :EPOCH 1 - PROGRESS: at 45.66% examples, 964171 words/s, in_qsize 7, out_qsize 0\n",
      "INFO :EPOCH 1 - PROGRESS: at 53.27% examples, 965166 words/s, in_qsize 7, out_qsize 0\n",
      "INFO :EPOCH 1 - PROGRESS: at 59.61% examples, 946532 words/s, in_qsize 8, out_qsize 0\n",
      "INFO :EPOCH 1 - PROGRESS: at 67.18% examples, 947932 words/s, in_qsize 7, out_qsize 0\n",
      "INFO :EPOCH 1 - PROGRESS: at 75.48% examples, 958852 words/s, in_qsize 7, out_qsize 0\n",
      "INFO :EPOCH 1 - PROGRESS: at 83.11% examples, 959648 words/s, in_qsize 7, out_qsize 0\n",
      "INFO :EPOCH 1 - PROGRESS: at 90.93% examples, 962767 words/s, in_qsize 7, out_qsize 0\n",
      "INFO :EPOCH 1 - PROGRESS: at 98.66% examples, 964526 words/s, in_qsize 7, out_qsize 0\n",
      "INFO :worker thread finished; awaiting finish of 3 more threads\n",
      "INFO :worker thread finished; awaiting finish of 2 more threads\n",
      "INFO :worker thread finished; awaiting finish of 1 more threads\n",
      "INFO :worker thread finished; awaiting finish of 0 more threads\n",
      "INFO :EPOCH - 1 : training on 17798082 raw words (12749913 effective words) took 13.2s, 964038 effective words/s\n",
      "INFO :EPOCH 2 - PROGRESS: at 7.94% examples, 1005024 words/s, in_qsize 7, out_qsize 0\n",
      "INFO :EPOCH 2 - PROGRESS: at 16.01% examples, 1012395 words/s, in_qsize 7, out_qsize 0\n",
      "INFO :EPOCH 2 - PROGRESS: at 22.93% examples, 963954 words/s, in_qsize 7, out_qsize 0\n",
      "INFO :EPOCH 2 - PROGRESS: at 30.55% examples, 965345 words/s, in_qsize 7, out_qsize 0\n",
      "INFO :EPOCH 2 - PROGRESS: at 38.51% examples, 973113 words/s, in_qsize 7, out_qsize 0\n",
      "INFO :EPOCH 2 - PROGRESS: at 46.22% examples, 974732 words/s, in_qsize 7, out_qsize 0\n",
      "INFO :EPOCH 2 - PROGRESS: at 54.43% examples, 985666 words/s, in_qsize 7, out_qsize 0\n",
      "INFO :EPOCH 2 - PROGRESS: at 62.54% examples, 992194 words/s, in_qsize 7, out_qsize 0\n",
      "INFO :EPOCH 2 - PROGRESS: at 70.44% examples, 992760 words/s, in_qsize 8, out_qsize 0\n",
      "INFO :EPOCH 2 - PROGRESS: at 78.15% examples, 992171 words/s, in_qsize 7, out_qsize 0\n",
      "INFO :EPOCH 2 - PROGRESS: at 86.08% examples, 993637 words/s, in_qsize 7, out_qsize 0\n",
      "INFO :EPOCH 2 - PROGRESS: at 93.23% examples, 986769 words/s, in_qsize 7, out_qsize 0\n",
      "INFO :worker thread finished; awaiting finish of 3 more threads\n",
      "INFO :worker thread finished; awaiting finish of 2 more threads\n",
      "INFO :worker thread finished; awaiting finish of 1 more threads\n",
      "INFO :worker thread finished; awaiting finish of 0 more threads\n",
      "INFO :EPOCH - 2 : training on 17798082 raw words (12749520 effective words) took 13.0s, 984308 effective words/s\n",
      "INFO :EPOCH 3 - PROGRESS: at 7.71% examples, 977408 words/s, in_qsize 7, out_qsize 0\n",
      "INFO :EPOCH 3 - PROGRESS: at 16.06% examples, 1017902 words/s, in_qsize 7, out_qsize 0\n",
      "INFO :EPOCH 3 - PROGRESS: at 23.88% examples, 1004210 words/s, in_qsize 7, out_qsize 0\n",
      "INFO :EPOCH 3 - PROGRESS: at 32.07% examples, 1010261 words/s, in_qsize 7, out_qsize 0\n",
      "INFO :EPOCH 3 - PROGRESS: at 40.52% examples, 1023889 words/s, in_qsize 7, out_qsize 0\n",
      "INFO :EPOCH 3 - PROGRESS: at 48.87% examples, 1030237 words/s, in_qsize 7, out_qsize 0\n",
      "INFO :EPOCH 3 - PROGRESS: at 57.15% examples, 1033836 words/s, in_qsize 7, out_qsize 0\n",
      "INFO :EPOCH 3 - PROGRESS: at 65.51% examples, 1038108 words/s, in_qsize 7, out_qsize 0\n",
      "INFO :EPOCH 3 - PROGRESS: at 73.79% examples, 1039521 words/s, in_qsize 7, out_qsize 0\n",
      "INFO :EPOCH 3 - PROGRESS: at 82.33% examples, 1043087 words/s, in_qsize 7, out_qsize 0\n",
      "INFO :EPOCH 3 - PROGRESS: at 90.77% examples, 1046099 words/s, in_qsize 7, out_qsize 0\n",
      "INFO :EPOCH 3 - PROGRESS: at 99.11% examples, 1047154 words/s, in_qsize 7, out_qsize 0\n",
      "INFO :worker thread finished; awaiting finish of 3 more threads\n",
      "INFO :worker thread finished; awaiting finish of 2 more threads\n",
      "INFO :worker thread finished; awaiting finish of 1 more threads\n",
      "INFO :worker thread finished; awaiting finish of 0 more threads\n",
      "INFO :EPOCH - 3 : training on 17798082 raw words (12750174 effective words) took 12.2s, 1046278 effective words/s\n",
      "INFO :EPOCH 4 - PROGRESS: at 8.33% examples, 1053122 words/s, in_qsize 7, out_qsize 0\n",
      "INFO :EPOCH 4 - PROGRESS: at 16.78% examples, 1059592 words/s, in_qsize 7, out_qsize 0\n",
      "INFO :EPOCH 4 - PROGRESS: at 25.22% examples, 1062906 words/s, in_qsize 7, out_qsize 0\n",
      "INFO :EPOCH 4 - PROGRESS: at 33.66% examples, 1062370 words/s, in_qsize 7, out_qsize 0\n",
      "INFO :EPOCH 4 - PROGRESS: at 41.92% examples, 1061571 words/s, in_qsize 7, out_qsize 0\n",
      "INFO :EPOCH 4 - PROGRESS: at 50.22% examples, 1061268 words/s, in_qsize 7, out_qsize 0\n",
      "INFO :EPOCH 4 - PROGRESS: at 58.51% examples, 1061133 words/s, in_qsize 7, out_qsize 0\n",
      "INFO :EPOCH 4 - PROGRESS: at 66.90% examples, 1062602 words/s, in_qsize 7, out_qsize 0\n",
      "INFO :EPOCH 4 - PROGRESS: at 75.19% examples, 1062023 words/s, in_qsize 7, out_qsize 0\n",
      "INFO :EPOCH 4 - PROGRESS: at 83.56% examples, 1061649 words/s, in_qsize 7, out_qsize 0\n",
      "INFO :EPOCH 4 - PROGRESS: at 91.87% examples, 1061748 words/s, in_qsize 7, out_qsize 0\n",
      "INFO :worker thread finished; awaiting finish of 3 more threads\n",
      "INFO :worker thread finished; awaiting finish of 2 more threads\n",
      "INFO :worker thread finished; awaiting finish of 1 more threads\n",
      "INFO :worker thread finished; awaiting finish of 0 more threads\n",
      "INFO :EPOCH - 4 : training on 17798082 raw words (12749589 effective words) took 12.0s, 1063073 effective words/s\n",
      "INFO :EPOCH 5 - PROGRESS: at 8.33% examples, 1054848 words/s, in_qsize 7, out_qsize 0\n",
      "INFO :EPOCH 5 - PROGRESS: at 16.61% examples, 1049544 words/s, in_qsize 7, out_qsize 0\n",
      "INFO :EPOCH 5 - PROGRESS: at 25.05% examples, 1055459 words/s, in_qsize 7, out_qsize 0\n",
      "INFO :EPOCH 5 - PROGRESS: at 32.86% examples, 1037770 words/s, in_qsize 7, out_qsize 0\n",
      "INFO :EPOCH 5 - PROGRESS: at 40.35% examples, 1020879 words/s, in_qsize 7, out_qsize 0\n",
      "INFO :EPOCH 5 - PROGRESS: at 48.00% examples, 1013002 words/s, in_qsize 7, out_qsize 0\n",
      "INFO :EPOCH 5 - PROGRESS: at 55.26% examples, 1000497 words/s, in_qsize 7, out_qsize 0\n",
      "INFO :EPOCH 5 - PROGRESS: at 62.60% examples, 993346 words/s, in_qsize 7, out_qsize 0\n",
      "INFO :EPOCH 5 - PROGRESS: at 69.59% examples, 981197 words/s, in_qsize 8, out_qsize 0\n",
      "INFO :EPOCH 5 - PROGRESS: at 75.88% examples, 962575 words/s, in_qsize 7, out_qsize 0\n",
      "INFO :EPOCH 5 - PROGRESS: at 82.82% examples, 955490 words/s, in_qsize 7, out_qsize 0\n",
      "INFO :EPOCH 5 - PROGRESS: at 88.98% examples, 940926 words/s, in_qsize 7, out_qsize 0\n",
      "INFO :EPOCH 5 - PROGRESS: at 95.06% examples, 927998 words/s, in_qsize 7, out_qsize 0\n",
      "INFO :worker thread finished; awaiting finish of 3 more threads\n",
      "INFO :worker thread finished; awaiting finish of 2 more threads\n",
      "INFO :worker thread finished; awaiting finish of 1 more threads\n",
      "INFO :worker thread finished; awaiting finish of 0 more threads\n",
      "INFO :EPOCH - 5 : training on 17798082 raw words (12747458 effective words) took 13.9s, 918690 effective words/s\n",
      "INFO :training on a 88990410 raw words (63746654 effective words) took 64.3s, 991938 effective words/s\n"
     ]
    }
   ],
   "source": []
  },
  {
   "cell_type": "code",
   "execution_count": 58,
   "metadata": {},
   "outputs": [
    {
     "name": "stderr",
     "output_type": "stream",
     "text": [
      "/home/alex/anaconda3/lib/python3.6/site-packages/ipykernel_launcher.py:1: DeprecationWarning: Call to deprecated `doesnt_match` (Method will be removed in 4.0.0, use self.wv.doesnt_match() instead).\n",
      "  \"\"\"Entry point for launching an IPython kernel.\n"
     ]
    },
    {
     "data": {
      "text/plain": [
       "'kitchen'"
      ]
     },
     "execution_count": 58,
     "metadata": {},
     "output_type": "execute_result"
    }
   ],
   "source": [
    "model.doesnt_match(\"man woman child kitchen\".split())"
   ]
  },
  {
   "cell_type": "code",
   "execution_count": 59,
   "metadata": {},
   "outputs": [
    {
     "name": "stderr",
     "output_type": "stream",
     "text": [
      "/home/alex/anaconda3/lib/python3.6/site-packages/ipykernel_launcher.py:1: DeprecationWarning: Call to deprecated `doesnt_match` (Method will be removed in 4.0.0, use self.wv.doesnt_match() instead).\n",
      "  \"\"\"Entry point for launching an IPython kernel.\n"
     ]
    },
    {
     "data": {
      "text/plain": [
       "'berlin'"
      ]
     },
     "execution_count": 59,
     "metadata": {},
     "output_type": "execute_result"
    }
   ],
   "source": [
    "model.doesnt_match(\"france england germany berlin\".split())"
   ]
  },
  {
   "cell_type": "code",
   "execution_count": 60,
   "metadata": {},
   "outputs": [
    {
     "name": "stderr",
     "output_type": "stream",
     "text": [
      "/home/alex/anaconda3/lib/python3.6/site-packages/ipykernel_launcher.py:1: DeprecationWarning: Call to deprecated `most_similar` (Method will be removed in 4.0.0, use self.wv.most_similar() instead).\n",
      "  \"\"\"Entry point for launching an IPython kernel.\n"
     ]
    },
    {
     "data": {
      "text/plain": [
       "[('woman', 0.6220847368240356),\n",
       " ('lady', 0.5995252132415771),\n",
       " ('lad', 0.5814304351806641),\n",
       " ('monk', 0.5453358888626099),\n",
       " ('men', 0.5275775790214539),\n",
       " ('guy', 0.5240290760993958),\n",
       " ('soldier', 0.522733747959137),\n",
       " ('millionaire', 0.5168834924697876),\n",
       " ('businessman', 0.5168582797050476),\n",
       " ('doctor', 0.5096631050109863)]"
      ]
     },
     "execution_count": 60,
     "metadata": {},
     "output_type": "execute_result"
    }
   ],
   "source": [
    "model.most_similar(\"man\")"
   ]
  },
  {
   "cell_type": "code",
   "execution_count": 61,
   "metadata": {},
   "outputs": [
    {
     "name": "stderr",
     "output_type": "stream",
     "text": [
      "/home/alex/anaconda3/lib/python3.6/site-packages/ipykernel_launcher.py:1: DeprecationWarning: Call to deprecated `most_similar` (Method will be removed in 4.0.0, use self.wv.most_similar() instead).\n",
      "  \"\"\"Entry point for launching an IPython kernel.\n"
     ]
    },
    {
     "data": {
      "text/plain": [
       "[('terrible', 0.7869566679000854),\n",
       " ('atrocious', 0.7530655860900879),\n",
       " ('horrible', 0.7484368085861206),\n",
       " ('abysmal', 0.7052768468856812),\n",
       " ('dreadful', 0.7043105959892273),\n",
       " ('horrendous', 0.6878989934921265),\n",
       " ('horrid', 0.6714105606079102),\n",
       " ('appalling', 0.6688593626022339),\n",
       " ('lousy', 0.6357158422470093),\n",
       " ('amateurish', 0.6351268291473389)]"
      ]
     },
     "execution_count": 61,
     "metadata": {},
     "output_type": "execute_result"
    }
   ],
   "source": [
    "model.most_similar(\"awful\")"
   ]
  }
 ],
 "metadata": {
  "kernelspec": {
   "display_name": "Python 3",
   "language": "python",
   "name": "python3"
  },
  "language_info": {
   "codemirror_mode": {
    "name": "ipython",
    "version": 3
   },
   "file_extension": ".py",
   "mimetype": "text/x-python",
   "name": "python",
   "nbconvert_exporter": "python",
   "pygments_lexer": "ipython3",
   "version": "3.6.2"
  }
 },
 "nbformat": 4,
 "nbformat_minor": 2
}
